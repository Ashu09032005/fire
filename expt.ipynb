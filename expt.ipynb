version https://git-lfs.github.com/spec/v1
oid sha256:e07defd2eb348e8236ad06e514cf2abf2ff7c40c9613288b003eaeaed5550adb
size 116402
